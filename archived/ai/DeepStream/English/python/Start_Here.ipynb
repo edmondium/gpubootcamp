{
 "cells": [
  {
   "cell_type": "markdown",
   "metadata": {},
   "source": [
    "# Welcome to Deepstream and Intelligent Video Analytics Bootcamp\n",
    "\n",
    "Welcome to the Deepstream and Intelligent Video Analytics Bootcamp ! \n",
    "\n",
    "The objective of this Bootcamp is to give you an introduction to NVIDIA Deepstream SDK 6.0.1. This Bootcamp will introduce you to the fundamentals of the DeepStream SDK and how they can be used to build and deploy AI-powered Intelligent Video Analytics apps and services. DeepStream offers a multi-platform scalable framework with TLS security to deploy on the edge and connect to any cloud.\n",
    "\n",
    "\n",
    "The following contents will be covered during the bootcamp : \n",
    "\n",
    "\n",
    "- [**Introduction to Deepstream and Gstreamer**](jupyter_notebook/Introduction_to_Deepstream_and_Gstreamer.ipynb)\n",
    "    - [DeepStream](jupyter_notebook/Introduction_to_Deepstream_and_Gstreamer.ipynb#DeepStream) \n",
    "    - [Overview of the DeepStream SDK](jupyter_notebook/Introduction_to_Deepstream_and_Gstreamer.ipynb#Overview-of-the-DeepStream-SDK)\n",
    "    - [GStreamer Foundations](jupyter_notebook/Introduction_to_Deepstream_and_Gstreamer.ipynb#GStreamer-Foundations-:)\n",
    "        - [Elements](jupyter_notebook/Introduction_to_Deepstream_and_Gstreamer.ipynb#Elements)\n",
    "        - [Pipeline](jupyter_notebook/jupyter_notebook/Introduction_to_Deepstream_and_Gstreamer.ipynb#Pipeline)\n",
    "        - [Pads](jupyter_notebook/Introduction_to_Deepstream_and_Gstreamer.ipynb#Pads)\n",
    "        - [Caps](jupyter_notebook/Introduction_to_Deepstream_and_Gstreamer.ipynb#Caps)\n",
    "        - [Buffers](jupyter_notebook/Introduction_to_Deepstream_and_Gstreamer.ipynb#Buffers)\n",
    "        - [Plugin based Architecture](Introduction_to_Deepstream_and_Gstreamer.ipynb#Plugin-based-Architecture)\n",
    "\n",
    "- [**Getting started with Deepstream Pipeline**](jupyter_notebook/Getting_started_with_Deepstream_Pipeline.ipynb)\n",
    "    - [NVIDIA DeepStream Plugins](jupyter_notebook/Getting_started_with_Deepstream_Pipeline.ipynb#NVIDIA-DeepStream-Plugins) \n",
    "        - [Nvinfer](jupyter_notebook/Getting_started_with_Deepstream_Pipeline.ipynb#Nvinfer)\n",
    "        - [Nvvidconv](jupyter_notebook/Getting_started_with_Deepstream_Pipeline.ipynb#Nvvidconv)\n",
    "        - [Nvosd](jupyter_notebook/Getting_started_with_Deepstream_Pipeline.ipynb#Nvosd)\n",
    "    - [Building the pipeline](jupyter_notebook/Getting_started_with_Deepstream_Pipeline.ipynb#Building-the-pipeline)\n",
    "    - [Understanding the configuration file](jupyter_notebook/Getting_started_with_Deepstream_Pipeline.ipynb#Understanding-the-configuration-file)\n",
    "    - [Working with the Metadata](jupyter_notebook/Getting_started_with_Deepstream_Pipeline.ipynb#Working-with-the-Metadata)\n",
    "- [**Introduction to Multi-DNN pipeline**](jupyter_notebook/Introduction_to_Multi-DNN_pipeline.ipynb)\n",
    "    - [Changes in configuration for a Multi-DNN pipeline](jupyter_notebook/Introduction_to_Multi-DNN_pipeline.ipynb#Changes-in-configuration)\n",
    "    - [Nvtracker](jupyter_notebook/Introduction_to_Multi-DNN_pipeline.ipynb#Nvtracker)\n",
    "    - [Building the pipeline](jupyter_notebook/Introduction_to_Multi-DNN_pipeline.ipynb#Building-the-Pipeline) \n",
    "\n",
    "- [**Multi-stream pipeline**](jupyter_notebook/Multi-stream_pipeline.ipynb)\n",
    "    - [Nvmultistreamtiler](jupyter_notebook/Multi-stream_pipeline.ipynb#Nvmultistreamtiler) \n",
    "    - [Building the pipeline](jupyter_notebook/Multi-stream_pipeline.ipynb#Building-the-pipeline)\n",
    "\n",
    "- [**Exercise : Multi-stream Multi-DNN pipeline**](jupyter_notebook/Multi-stream_Multi_DNN.ipynb)"
   ]
  }
 ],
 "metadata": {
  "kernelspec": {
   "display_name": "Python 3",
   "language": "python",
   "name": "python3"
  },
  "language_info": {
   "codemirror_mode": {
    "name": "ipython",
    "version": 3
   },
   "file_extension": ".py",
   "mimetype": "text/x-python",
   "name": "python",
   "nbconvert_exporter": "python",
   "pygments_lexer": "ipython3",
   "version": "3.8.8"
  }
 },
 "nbformat": 4,
 "nbformat_minor": 4
}
