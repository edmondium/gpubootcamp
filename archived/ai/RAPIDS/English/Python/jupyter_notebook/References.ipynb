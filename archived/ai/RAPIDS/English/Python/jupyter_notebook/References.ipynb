{
 "cells": [
  {
   "cell_type": "markdown",
   "metadata": {},
   "source": [
    "[Return to Home Page](START_HERE.ipynb)"
   ]
  },
  {
   "cell_type": "markdown",
   "metadata": {},
   "source": [
    "# References\n",
    "\n",
    "- https://www.kaggle.com/\n",
    "- https://rapids.ai/about.html\n",
    "- https://distributed.dask.org/en/latest/worker.html#\n",
    "- https://elitedatascience.com/imbalanced-classes\n",
    "- https://machinelearningmastery.com/train-test-split-for-evaluating-machine-learning-algorithms/\n",
    "- https://github.com/zronaghi/nasa-ml-workshop\n",
    "-  https://github.com/rapidsai/notebooks\n",
    "\n",
    "# Other Bootcamps\n",
    "The contents of this Bootcamp originates from [OpenACC GPU Bootcamp Github](https://github.com/gpuhackathons-org/gpubootcamp).  Here are some additional Bootcamp which might be of interest: \n",
    "\n",
    "- [Intelligent Video Analytic using DeepStream](https://github.com/gpuhackathons-org/gpubootcamp/tree/master/ai/DeepStream)\n"
   ]
  },
  {
   "cell_type": "markdown",
   "metadata": {},
   "source": [
    "[Return to Home Page](START_HERE.ipynb)"
   ]
  }
 ],
 "metadata": {
  "kernelspec": {
   "display_name": "Python 3",
   "language": "python",
   "name": "python3"
  },
  "language_info": {
   "codemirror_mode": {
    "name": "ipython",
    "version": 3
   },
   "file_extension": ".py",
   "mimetype": "text/x-python",
   "name": "python",
   "nbconvert_exporter": "python",
   "pygments_lexer": "ipython3",
   "version": "3.6.2"
  }
 },
 "nbformat": 4,
 "nbformat_minor": 4
}
