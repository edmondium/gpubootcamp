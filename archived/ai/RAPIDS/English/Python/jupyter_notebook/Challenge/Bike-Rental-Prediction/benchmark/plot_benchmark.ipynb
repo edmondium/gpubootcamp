{
 "cells": [
  {
   "cell_type": "code",
   "execution_count": 17,
   "metadata": {},
   "outputs": [
    {
     "data": {
      "image/png": "[encoded data removed]",
      "text/plain": [
       "<Figure size 432x288 with 1 Axes>"
      ]
     },
     "metadata": {
      "needs_background": "light"
     },
     "output_type": "display_data"
    }
   ],
   "source": [
    "import numpy as np\n",
    "import matplotlib.pyplot as plt\n",
    "\n",
    "#t_file 0.3218415771960281 0.0009244223727958032\n",
    "#t_cudf 0.9145742093911394 0.024607325152174418\n",
    "#t_cuml 1.8741185978113208 0.0019610284454363554\n",
    "\n",
    "#t_file 3.9348988399957308 0.02255577090342604\n",
    "#t_df 5.154824440192897 0.02910584109140736\n",
    "#t_ml 7.682660230598413 0.24960009582594833\n",
    "\n",
    "N = 2\n",
    "\n",
    "mean = np.array([[ 0.3218415771960281, 0.9145742093911394, 1.8741185978113208],  # gpu file, cudf, cuml\n",
    "                 [3.9348988399957308, 5.154824440192897, 7.682660230598413]])    # cpu file, cudf, cuml\n",
    "std = np.array([[0.0009244223727958032, 0.024607325152174418, 0.0019610284454363554],\n",
    "                [0.02255577090342604, 0.02910584109140736, 0.24960009582594833]])\n",
    "\n",
    "ind = np.flip(np.arange(N))    # the x locations for the groups\n",
    "width = 0.35       # the width of the bars: can also be len(x) sequence\n",
    "\n",
    "p1 = plt.barh(ind, mean[:,0], width)\n",
    "p2 = plt.barh(ind, mean[:,1], width, left=mean[:,0])\n",
    "p3 = plt.barh(ind, mean[:,2], width, left=mean[:,0]+mean[:,1])\n",
    "\n",
    "#plt.ylabel('Scores')\n",
    "plt.xlabel('Execution time (s)')\n",
    "#plt.xticks(ind, ('File IO', 'G2', 'G3', 'G4', 'G5'))\n",
    "plt.yticks(ind, ('GPU', 'CPU'))\n",
    "plt.legend((p1[0], p2[0], p3[0]), ('File IO', 'Data transform', 'ML'))\n",
    "\n",
    "plt.savefig('rapids_bikeshare_gpu_vs_cpu.svg')"
   ]
  },
  {
   "cell_type": "code",
   "execution_count": 10,
   "metadata": {},
   "outputs": [
    {
     "data": {
      "text/plain": [
       "array([[0.32184158, 0.91457421, 1.8741186 ],\n",
       "       [3.93489884, 5.15482444, 7.68266023]])"
      ]
     },
     "execution_count": 10,
     "metadata": {},
     "output_type": "execute_result"
    }
   ],
   "source": [
    "mean"
   ]
  },
  {
   "cell_type": "code",
   "execution_count": 11,
   "metadata": {},
   "outputs": [
    {
     "data": {
      "text/plain": [
       "array([0.91457421, 5.15482444])"
      ]
     },
     "execution_count": 11,
     "metadata": {},
     "output_type": "execute_result"
    }
   ],
   "source": [
    "mean[:,1]"
   ]
  },
  {
   "cell_type": "code",
   "execution_count": 20,
   "metadata": {},
   "outputs": [],
   "source": [
    "s = mean.sum(axis=1)"
   ]
  },
  {
   "cell_type": "code",
   "execution_count": 21,
   "metadata": {},
   "outputs": [
    {
     "data": {
      "text/plain": [
       "5.392122843879273"
      ]
     },
     "execution_count": 21,
     "metadata": {},
     "output_type": "execute_result"
    }
   ],
   "source": [
    "s[1]/s[0]"
   ]
  },
  {
   "cell_type": "code",
   "execution_count": null,
   "metadata": {},
   "outputs": [],
   "source": []
  }
 ],
 "metadata": {
  "kernelspec": {
   "display_name": "Python 3",
   "language": "python",
   "name": "python3"
  },
  "language_info": {
   "codemirror_mode": {
    "name": "ipython",
    "version": 3
   },
   "file_extension": ".py",
   "mimetype": "text/x-python",
   "name": "python",
   "nbconvert_exporter": "python",
   "pygments_lexer": "ipython3",
   "version": "3.7.8"
  }
 },
 "nbformat": 4,
 "nbformat_minor": 4
}
