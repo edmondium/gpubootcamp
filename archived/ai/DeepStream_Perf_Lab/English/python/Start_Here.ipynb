{
 "cells": [
  {
   "cell_type": "markdown",
   "metadata": {},
   "source": [
    "# Welcome to Deepstream Performance Analysis Bootcamp\n",
    "\n",
    "The objective of this Bootcamp is to introduce you to the performance analysis and optimizations for Pipelines built using DeepStream SDK 6.0. The Bootcamp assumes familiarity with DeepStream SDK and if you are using DeepStream for first time please go through the DeepStream Bootcamp prior.  \n",
    "\n",
    "The following contents will be covered during the Bootcamp : \n",
    "\n",
    "\n",
    "- [**Introduction to Performance analysis :**](jupyter_notebook/Introduction_to_Performance_analysis.ipynb)\n",
    "    - [Latency, Throughput, and GPU Metrics](jupyter_notebook/Introduction_to_Performance_analysis.ipynb#Latency,-Throughput,-and-GPU-Metrics)\n",
    "        - [Latency](jupyter_notebook/Introduction_to_Performance_analysis.ipynb#Latency)\n",
    "        - [GPU Metrics](jupyter_notebook/Introduction_to_Performance_analysis.ipynb#GPU-Metrics)\n",
    "        - [Throughput](jupyter_notebook/Introduction_to_Performance_analysis.ipynb#Throughput)\n",
    "    - [Case 1 : Multi-stream cascaded network pipeline](jupyter_notebook/Introduction_to_Performance_analysis.ipynb#Case-1:-Multi-stream-cascaded-network-pipeline.)\n",
    "        - [Bench-marking with GST Probes](jupyter_notebook/Introduction_to_Performance_analysis.ipynb#Benchmarking-with-GST-Probes)\n",
    "        - [Effects on OSD,Tiler & Queues](jupyter_notebook/Introduction_to_Performance_analysis.ipynb#Effects-on-OSD,-Tiler,-and-Queues)\n",
    "    - [Summary](jupyter_notebook/Introduction_to_Performance_analysis.ipynb#Summary)\n",
    "\n",
    "- [**Performance Analysis using NSight systems**](jupyter_notebook/Performance_Analysis_using_NSight_systems.ipynb)\n",
    "    - [Using NSight Systems to generate a report and finding bottlenecks to solve](jupyter_notebook/Performance_Analysis_using_NSight_systems.ipynb#Using-NSight-Systems-to-generate-a-report-and-finding-bottlenecks-to-solve) \n",
    "        - [Streammux parameters](jupyter_notebook/Performance_Analysis_using_NSight_systems.ipynb#Streammux-parameters)\n",
    "        - [Batch size across cascaded networks](jupyter_notebook/Performance_Analysis_using_NSight_systems.ipynb#Batch-size-across-cascaded-networks)\n",
    "        - [NVInfer](jupyter_notebook/Performance_Analysis_using_NSight_systems.ipynb#NVInfer)\n",
    "        - [NVTracker](jupyter_notebook/Performance_Analysis_using_NSight_systems.ipynb#NVTracker)\n",
    "    - [Summary](jupyter_notebook/Performance_Analysis_using_NSight_systems.ipynb#Summary)\n",
    "    \n",
    "- [**Performance Analysis using NSight systems - Continued**](jupyter_notebook/Performance_Analysis_using_NSight_systems_Continued.ipynb)\n",
    "    - [Case 2:COVID-19 Social Distancing Application.](jupyter_notebook/Performance_Analysis_using_NSight_systems_Continued.ipynb#Case-2:-COVID-19-Social-Distancing-Application.)\n",
    "        - [Finding distance between 2 people](jupyter_notebook/Performance_Analysis_using_NSight_systems_Continued.ipynb#Finding-distance-between-2-people)\n",
    "    - [Solving the computational bottleneck](jupyter_notebook/Performance_Analysis_using_NSight_systems_Continued.ipynb#Solving-the-computational-bottleneck)\n",
    "    - [Jetson specific optimizations](jupyter_notebook/Performance_Analysis_using_NSight_systems_Continued.ipynb#Jetson-specific-optimizations)\n",
    "    - [Summary](jupyter_notebook/Performance_Analysis_using_NSight_systems_Continued.ipynb#Summary)\n",
    "\n",
    "**Disclaimer** : All the results mentioned in the notebooks were tested on a Tesla V100 and DGX A100. The results would vary when using different hardware and would also depend on the PCI Express bandwidth and the thermal conditions of the hardware present in your machine."
   ]
  }
 ],
 "metadata": {
  "kernelspec": {
   "display_name": "Python 3",
   "language": "python",
   "name": "python3"
  },
  "language_info": {
   "codemirror_mode": {
    "name": "ipython",
    "version": 3
   },
   "file_extension": ".py",
   "mimetype": "text/x-python",
   "name": "python",
   "nbconvert_exporter": "python",
   "pygments_lexer": "ipython3",
   "version": "3.8.8"
  }
 },
 "nbformat": 4,
 "nbformat_minor": 4
}
